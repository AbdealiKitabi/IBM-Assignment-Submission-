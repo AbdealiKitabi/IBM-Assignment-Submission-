{
 "cells": [
  {
   "cell_type": "markdown",
   "id": "f662e917-88b1-4329-aa8a-5fa70d4ccf45",
   "metadata": {},
   "source": [
    "# Data Science Tools and Ecosystem"
   ]
  },
  {
   "cell_type": "markdown",
   "id": "c0d32add-5216-4be0-9ee9-086c6b0e9568",
   "metadata": {},
   "source": [
    "In this notebook, Data Science Tools and Ecosystem are summarized."
   ]
  },
  {
   "cell_type": "markdown",
   "id": "cfa01265-d715-406e-9d17-15ee0daf0789",
   "metadata": {},
   "source": [
    "***Objectives:***\n",
    "+ List popular languages for Data Science\n",
    "+ List common Libraries for Data Science\n",
    "+ List popular Development Environment Open-Source Tools Used in Data Science\n",
    "+ Arithmetic Expressions in Python"
   ]
  },
  {
   "cell_type": "markdown",
   "id": "135104c2-d92f-4cf2-86d8-e3ac87950902",
   "metadata": {},
   "source": [
    "Some of the popular languages that Data Scientists use are:"
   ]
  },
  {
   "cell_type": "markdown",
   "id": "ccad2911-1081-4dff-b3de-764f5c233be5",
   "metadata": {},
   "source": [
    "+ Python\n",
    "+ R\n",
    "+ Scala\n",
    "+ Java\n",
    "+ Julia"
   ]
  },
  {
   "cell_type": "markdown",
   "id": "50720bb4-31c6-4bae-bda2-4647ed86c9d0",
   "metadata": {},
   "source": [
    "Some of the commonly used libraries used by Data Scientists include:"
   ]
  },
  {
   "cell_type": "markdown",
   "id": "04868ba0-e412-44d4-8d01-0dd2cdd053a3",
   "metadata": {},
   "source": [
    "1. Pandas\n",
    "2. Numpy\n",
    "3. cares\n",
    "4. ggplot\n",
    "5. matplotlib"
   ]
  },
  {
   "cell_type": "markdown",
   "id": "80958d52-8e49-486b-a8e2-95dbf55f0d5b",
   "metadata": {},
   "source": [
    "| Data Science Tools |\n",
    "| ------------------ |\n",
    "| Jupyter Notebooks |\n",
    "| Spyder |\n",
    "| Google Colab |"
   ]
  },
  {
   "cell_type": "markdown",
   "id": "86dbf0f8-0a66-4100-87ce-72a0762fd92a",
   "metadata": {},
   "source": [
    "### Below are a few examples of evaluating arithmetic expressions in Python"
   ]
  },
  {
   "cell_type": "code",
   "execution_count": 5,
   "id": "a8f40831-98d0-496d-8488-f63723febd5b",
   "metadata": {},
   "outputs": [
    {
     "data": {
      "text/plain": [
       "17"
      ]
     },
     "execution_count": 5,
     "metadata": {},
     "output_type": "execute_result"
    }
   ],
   "source": [
    "#This a simple arithmetic expression to mutiply then add integers.\n",
    "(3*4)+5"
   ]
  },
  {
   "cell_type": "code",
   "execution_count": 9,
   "id": "ec75b90c-301c-4de2-a896-960f1c17f6a0",
   "metadata": {},
   "outputs": [
    {
     "name": "stdout",
     "output_type": "stream",
     "text": [
      "3.3333333333333335\n"
     ]
    }
   ],
   "source": [
    "#This will convert 200 minutes to hours by diving by 60\n",
    "minutes = 200\n",
    "hours = minutes/60\n",
    "print(hours)"
   ]
  },
  {
   "cell_type": "markdown",
   "id": "edc9c395-bfb9-4827-a795-a31c274cc144",
   "metadata": {},
   "source": [
    "## Author\n",
    "Abdeali Kitabi"
   ]
  },
  {
   "cell_type": "code",
   "execution_count": null,
   "id": "f5f776fa-075e-4c9a-bb34-4193c2ce2b10",
   "metadata": {},
   "outputs": [],
   "source": []
  }
 ],
 "metadata": {
  "kernelspec": {
   "display_name": "Python 3 (ipykernel)",
   "language": "python",
   "name": "python3"
  },
  "language_info": {
   "codemirror_mode": {
    "name": "ipython",
    "version": 3
   },
   "file_extension": ".py",
   "mimetype": "text/x-python",
   "name": "python",
   "nbconvert_exporter": "python",
   "pygments_lexer": "ipython3",
   "version": "3.11.4"
  }
 },
 "nbformat": 4,
 "nbformat_minor": 5
}
